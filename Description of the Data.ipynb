{
 "cells": [
  {
   "cell_type": "markdown",
   "metadata": {},
   "source": [
    "### 2. Data \n",
    "\n",
    "### 1 Description of the Data\n",
    "In order to find the most promising borough for John the following data is needed:\n",
    "\n",
    "1. Average price per m² of the apartments in Miami:This information is gathered through web scraping from this webpage [Miami Average price](https://www.rentcafe.com/average-rent-market-trends/us/fl/miami/).\n",
    "\n",
    "2. Information about the venues in all boroughs of Miami (including those around Johns home): This information is gathered through web scraping from wikipedia [List of neighborhoods in Miami](https://en.wikipedia.org/wiki/List_of_neighborhoods_in_Miami).the Geocoder Python package (https://geocoder.readthedocs.io/index.html) is used to receive the latitude and logitude coordinate for all of the boroughs. The boroughs and their corresponding latitude and longitude are used as input for FourSquare to source information about the boroughs."
   ]
  },
  {
   "cell_type": "markdown",
   "metadata": {},
   "source": [
    "### 2 How will the data be used to solve the problem\n",
    "We will start with an exploratory data analysis, where we intend to understand the underlying data. The describe method provides valuable insights for the \"average price per m² of the apartments in miami\" investigations.\n",
    "\n",
    "To get a first impression about the distribution of venues in miami, they are visualized using Folium map. The chosen color code will give immediate yet superficial insight, how John's favourite venues are distributed across miami and how the surrounding of his actual location looks like.\n",
    "\n",
    "For the further analysis, the venues will be divided into two types: Firstly, we have a data frame containing all venues of John's personal interest and one containing all other venues. This subdivision will let us analyse which boroughs are most similar to John's current neighborhood in terms of his personal preferences but also tells us the most common venues within the boroughs. This ensures to find the top borough in terms of John's interests - which is of course the most important criterion - but also provides a list for John with the most common venues in the neighborhoods that he could use for his final decision.\n",
    "\n",
    "One hot encoding and k-means will narrow the list of the most promising boroughs to three. Combining these three with the pricing analysis lets us recommend the best borough match for John."
   ]
  },
  {
   "cell_type": "code",
   "execution_count": null,
   "metadata": {},
   "outputs": [],
   "source": []
  }
 ],
 "metadata": {
  "kernelspec": {
   "display_name": "Python 3",
   "language": "python",
   "name": "python3"
  },
  "language_info": {
   "codemirror_mode": {
    "name": "ipython",
    "version": 3
   },
   "file_extension": ".py",
   "mimetype": "text/x-python",
   "name": "python",
   "nbconvert_exporter": "python",
   "pygments_lexer": "ipython3",
   "version": "3.8.5"
  }
 },
 "nbformat": 4,
 "nbformat_minor": 4
}
