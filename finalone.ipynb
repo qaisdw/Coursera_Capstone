{
 "cells": [
  {
   "cell_type": "markdown",
   "metadata": {},
   "source": [
    "## Peer-graded Assignment: Capstone Project - The Battle of Neighborhoods (Week 1)\n"
   ]
  },
  {
   "cell_type": "markdown",
   "metadata": {},
   "source": [
    "## NEW HOME"
   ]
  },
  {
   "cell_type": "markdown",
   "metadata": {},
   "source": [
    "### 1. Introduction\n",
    "\n",
    "### 1. 1 Background Information\n",
    "Almost everybody is moving to another place - at least once in a lifetime. Starting to study in a new city, during a semester abroad, after changing the job, or moving together with a new partner are only some of the reasons why people would find a new place to live. Besides the price of the housing, another important factor is its surrounding. When moving to another place, people most likely would like to find a place that is comparable to the current home to feel comfortable. Even though different people put emphasis on different venues: For example, for some it might be interesting to have a Gym nearby, while other prefer good restaurants or coffee stores nearby - they all have the same problem in common: How to find a place that meets the personal requirements? In this report we will answer this question using Data Science Methods.\n",
    "\n",
    "\n",
    "### 1. 2 Problem statement: Where should John move within miami\n",
    "\n",
    "In this report, we are trying to find a borough in miami for John, where he most likely would feel comfortable. John is 27 years old and is currently living in The Asia Brickell Key. He really enjoys living there. Unfortunately, he lost his wealth - that is why John needs to move to another place. He would like to use this as a chance to explore new neighborhoods in miami.Brickell Key is  is an artificial triangular island at the mouth of the Miami River in Miami, Florida, United States. John like to see modern Art and grab coffee afterwards.That is why it would be nice to have a Art Gallery and coffee store close to the new home ,john likes to keep his body fit, When it is getting too late at work, he likes to grab dinner in a restaurant. That is why it would be a plus to have bars or restaurants close to his home.Summarized, John would most likely enjoy to have the following venues nearby:\n",
    "\n",
    " * Art Gallery\n",
    " * restaurants & bars\n",
    " * Gym\n",
    " * coffee store\n",
    "\n",
    "\n",
    "\n",
    "All in all, John really loves his current borough, that is why we need to find out in addition, which of the other boroughs is most similar to the one he is currently living in. We will use data science methods to identify the most promising neighborhoods based on these criteria.\n",
    "\n",
    "\n",
    "### 1. 3 Target audience for this report\n",
    "This report is an analysis of the boroughs in Munich customized to the needs of John (park, coffee store... nearby). However, the approach is applicable to all people with any specific needs. The information gathered from Foursquare in combination with data science methods are a good basis to derive data driven decisions regarding boroughs that best fit the specific needs at hand. It would even be possible for real estate agents to use some similar approaches to find the perfect home for their customers."
   ]
  },
  {
   "cell_type": "code",
   "execution_count": null,
   "metadata": {},
   "outputs": [],
   "source": []
  }
 ],
 "metadata": {
  "kernelspec": {
   "display_name": "Python 3",
   "language": "python",
   "name": "python3"
  },
  "language_info": {
   "codemirror_mode": {
    "name": "ipython",
    "version": 3
   },
   "file_extension": ".py",
   "mimetype": "text/x-python",
   "name": "python",
   "nbconvert_exporter": "python",
   "pygments_lexer": "ipython3",
   "version": "3.8.5"
  }
 },
 "nbformat": 4,
 "nbformat_minor": 1
}
